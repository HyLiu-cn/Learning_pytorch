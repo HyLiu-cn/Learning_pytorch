{
 "cells": [
  {
   "cell_type": "code",
   "execution_count": 1,
   "id": "a3025121",
   "metadata": {},
   "outputs": [],
   "source": [
    "import torch\n",
    "import torchvision\n",
    "import matplotlib.pyplot as plt\n",
    "import sys\n",
    "import numpy as np"
   ]
  },
  {
   "cell_type": "markdown",
   "id": "f54d7f6c",
   "metadata": {},
   "source": [
    "### softmax回归的从零开始实现"
   ]
  },
  {
   "cell_type": "markdown",
   "id": "8d66a464",
   "metadata": {},
   "source": [
    "#### 获取和读取数据"
   ]
  },
  {
   "cell_type": "code",
   "execution_count": 2,
   "id": "cc16743f",
   "metadata": {},
   "outputs": [],
   "source": [
    "batch_size = 256\n",
    "train_data = torchvision.datasets.FashionMNIST('./data/FashionMNIST',train=True,transform=torchvision.transforms.ToTensor(),download=True)\n",
    "test_data = torchvision.datasets.FashionMNIST('./data/FashionMNIST',train=False,transform=torchvision.transforms.ToTensor(),download=True)"
   ]
  },
  {
   "cell_type": "code",
   "execution_count": 3,
   "id": "3155bd38",
   "metadata": {},
   "outputs": [],
   "source": [
    "train_iter = torch.utils.data.DataLoader(train_data,batch_size,shuffle=True)\n",
    "test_iter = torch.utils.data.DataLoader(test_data,batch_size,shuffle=False)"
   ]
  },
  {
   "cell_type": "markdown",
   "id": "b4bdf384",
   "metadata": {},
   "source": [
    "#### 初始化模型参数"
   ]
  },
  {
   "cell_type": "code",
   "execution_count": 4,
   "id": "633b4f48",
   "metadata": {},
   "outputs": [],
   "source": [
    "num_inputs = 28 * 28\n",
    "num_outputs = 10\n",
    "w = torch.tensor(np.random.normal(0,0.01,(num_inputs,num_outputs)),dtype=torch.float)\n",
    "b = torch.zeros(num_outputs,dtype=torch.float)"
   ]
  },
  {
   "cell_type": "code",
   "execution_count": 5,
   "id": "be18afc9",
   "metadata": {},
   "outputs": [
    {
     "data": {
      "text/plain": [
       "tensor([0., 0., 0., 0., 0., 0., 0., 0., 0., 0.], requires_grad=True)"
      ]
     },
     "execution_count": 5,
     "metadata": {},
     "output_type": "execute_result"
    }
   ],
   "source": [
    "w.requires_grad_(requires_grad=True)\n",
    "b.requires_grad_(requires_grad=True)"
   ]
  },
  {
   "cell_type": "markdown",
   "id": "c9ba717d",
   "metadata": {},
   "source": [
    "#### 实现softmax运算:\n",
    "    矩阵X的行数是样本数，列数是输出个数\n",
    "    先通过exp函数对每个元素做指数运算，再对exp矩阵同行元素求和，最后令矩阵每行各元素与该行元素之和相除\n",
    "![softmax](./img/3.4/softmax.png)"
   ]
  },
  {
   "cell_type": "code",
   "execution_count": 6,
   "id": "19bd0648",
   "metadata": {},
   "outputs": [],
   "source": [
    "def softmax(z):\n",
    "#     return np.exp(z) / np.exp(z).sum(dim=1,keepdim=True)\n",
    "    z_exp = z.exp()\n",
    "    j = z_exp.sum(dim=1,keepdim=True)\n",
    "    return z_exp / j"
   ]
  },
  {
   "cell_type": "code",
   "execution_count": 7,
   "id": "d0335e83",
   "metadata": {},
   "outputs": [
    {
     "name": "stdout",
     "output_type": "stream",
     "text": [
      "<class 'torch.Tensor'>\n",
      "tensor([[0.2953, 0.2050, 0.1884, 0.1223, 0.1890],\n",
      "        [0.1632, 0.2057, 0.2492, 0.1438, 0.2380]]) tensor([1.0000, 1.0000])\n"
     ]
    }
   ],
   "source": [
    "# 对于随机输入，我们将每个元素变成了非负数，且每一行和为1\n",
    "X = torch.rand((2, 5))\n",
    "X_prob = softmax(X)\n",
    "print(type(X_prob))\n",
    "print(X_prob, X_prob.sum(dim=1))"
   ]
  },
  {
   "cell_type": "markdown",
   "id": "1d4b3a07",
   "metadata": {},
   "source": [
    "#### 定义模型\n",
    "![model](./img/3.4/model.png)"
   ]
  },
  {
   "cell_type": "code",
   "execution_count": 8,
   "id": "d8f23c5a",
   "metadata": {},
   "outputs": [],
   "source": [
    "def net(x):\n",
    "    O = torch.mm(x.view(-1,num_inputs),w) + b\n",
    "    y_hat = softmax(O)\n",
    "    return y_hat"
   ]
  },
  {
   "cell_type": "markdown",
   "id": "e8d41272",
   "metadata": {},
   "source": [
    "#### 定义损失函数\n",
    "![cross-entropy](./img/3.4/cross-entropy.png)"
   ]
  },
  {
   "cell_type": "code",
   "execution_count": 9,
   "id": "8572dd5b",
   "metadata": {},
   "outputs": [
    {
     "data": {
      "text/plain": [
       "tensor([[0.6000],\n",
       "        [0.2000]])"
      ]
     },
     "execution_count": 9,
     "metadata": {},
     "output_type": "execute_result"
    }
   ],
   "source": [
    "# 可以使用 gather 函数\n",
    "y_hat = torch.tensor([[0.1,0.3,0.6]\n",
    "                      ,[0.3,0.2,0.5]])\n",
    "y = torch.tensor([2,1])\n",
    "y_hat.gather(1,y.view(-1,1)) # dim: 0 按列查找 1 按行查找    index：索引"
   ]
  },
  {
   "cell_type": "code",
   "execution_count": 10,
   "id": "02618790",
   "metadata": {},
   "outputs": [],
   "source": [
    "def cross_entropy(y_hat,y):\n",
    "    y = y.view(-1,1)\n",
    "    return - torch.log(y_hat.gather(1,y)).sum()"
   ]
  },
  {
   "cell_type": "markdown",
   "id": "10fbf2f1",
   "metadata": {},
   "source": [
    "#### 计算分类准确率\n",
    "    把预测概率最大的类别作为输出类别,与真实类别y一致，说明这次预测是正确的\n",
    "    \n",
    "    分类准确率即正确预测数量与总预测数量之比"
   ]
  },
  {
   "cell_type": "code",
   "execution_count": 11,
   "id": "86d38d60",
   "metadata": {},
   "outputs": [],
   "source": [
    "def accuracy(y_hat,y):\n",
    "#     return (y_hat.argmax(dim=1) == y).float().mean().item()\n",
    "    return ((y_hat.argmax(dim=1) == y).float().sum() / len(y_hat)).item()"
   ]
  },
  {
   "cell_type": "code",
   "execution_count": 12,
   "id": "7545b55d",
   "metadata": {},
   "outputs": [
    {
     "data": {
      "text/plain": [
       "0.5"
      ]
     },
     "execution_count": 12,
     "metadata": {},
     "output_type": "execute_result"
    }
   ],
   "source": [
    "accuracy(y_hat,y)"
   ]
  },
  {
   "cell_type": "code",
   "execution_count": 13,
   "id": "c41b315d",
   "metadata": {},
   "outputs": [],
   "source": [
    "def evaluate_accuracy(data_iter,net):\n",
    "    acc_sum,n = 0.0 , 0 # acc_sum：总的正确率   n：数据集个数\n",
    "    for x,y in data_iter:\n",
    "        y_pre = net(x)\n",
    "        acc_sum += (y_pre.argmax(dim=1) == y).float().sum().item()\n",
    "        n += y.shape[0]\n",
    "    return acc_sum / n"
   ]
  },
  {
   "cell_type": "code",
   "execution_count": 14,
   "id": "d8c2e8e7",
   "metadata": {},
   "outputs": [
    {
     "data": {
      "text/plain": [
       "0.1438"
      ]
     },
     "execution_count": 14,
     "metadata": {},
     "output_type": "execute_result"
    }
   ],
   "source": [
    "evaluate_accuracy(test_iter,net)"
   ]
  },
  {
   "cell_type": "markdown",
   "id": "0ca68835",
   "metadata": {},
   "source": [
    "#### 训练模型"
   ]
  },
  {
   "cell_type": "code",
   "execution_count": 15,
   "id": "3f6ef9b4",
   "metadata": {},
   "outputs": [],
   "source": [
    "num_epochs , lr = 5,0.1"
   ]
  },
  {
   "cell_type": "code",
   "execution_count": 16,
   "id": "376b5ea7",
   "metadata": {},
   "outputs": [],
   "source": [
    "def train(num_epochs,train_iter,test_iter,net,loss_fn,batch_size,params=None,lr=None,optimizer=None):\n",
    "    for epoch in range(num_epochs):\n",
    "        train_loss_sum,train_acc_sum,n = 0.0,0.0,0\n",
    "        for x,y in train_iter:\n",
    "            y_hat = net(x)\n",
    "            loss = loss_fn(y_hat,y)\n",
    "            \n",
    "            # 梯度清零\n",
    "            if optimizer is not None:\n",
    "                optimizer.zero_grad()\n",
    "            elif params is not None and params[0].grad is not None:\n",
    "                for param in params:\n",
    "                    param.grad.data.zero_()\n",
    "            \n",
    "            loss.backward()\n",
    "            if optimizer is not None:\n",
    "                optimizer.step()\n",
    "            else:\n",
    "                for param in params:\n",
    "                    param.data -= param.grad * lr / batch_size\n",
    "                    \n",
    "            train_acc_sum += (y_hat.argmax(dim=1) == y).float().sum().item()\n",
    "            train_loss_sum += loss.item()\n",
    "            n += y.shape[0]\n",
    "            \n",
    "        test_acc = evaluate_accuracy(test_iter,net)\n",
    "        print('epoch %d,loss %.4f,train acc: %.3f,test acc: %.3f' % (epoch+1,train_loss_sum/n,train_acc_sum/n * 100,test_acc))"
   ]
  },
  {
   "cell_type": "code",
   "execution_count": 17,
   "id": "b9355af1",
   "metadata": {},
   "outputs": [
    {
     "name": "stdout",
     "output_type": "stream",
     "text": [
      "epoch 1,loss 0.7850,train acc: 75.023,test acc: 0.795\n",
      "epoch 2,loss 0.5699,train acc: 81.385,test acc: 0.812\n",
      "epoch 3,loss 0.5251,train acc: 82.667,test acc: 0.819\n",
      "epoch 4,loss 0.5015,train acc: 83.222,test acc: 0.825\n",
      "epoch 5,loss 0.4862,train acc: 83.673,test acc: 0.829\n"
     ]
    }
   ],
   "source": [
    "train(num_epochs,train_iter,test_iter,net,cross_entropy,batch_size,params=[w,b],lr=lr,)"
   ]
  },
  {
   "cell_type": "markdown",
   "id": "b1394bac",
   "metadata": {},
   "source": [
    "#### 预测"
   ]
  },
  {
   "cell_type": "code",
   "execution_count": 19,
   "id": "48167ba7",
   "metadata": {},
   "outputs": [],
   "source": [
    "def get_fashion_mnist_labels(labels):\n",
    "    text_labels = ['t-shirt', 'trouser', 'pullover', 'dress', 'coat',\n",
    "                   'sandal', 'shirt', 'sneaker', 'bag', 'ankle boot']\n",
    "    return [text_labels[int(i)] for i in labels]"
   ]
  },
  {
   "cell_type": "code",
   "execution_count": 21,
   "id": "e1aae46e",
   "metadata": {},
   "outputs": [],
   "source": [
    "def show_fashion_mnist(x,y):\n",
    "    _,figs = plt.subplots(1,len(x),figsize=(12,12))\n",
    "    for f,i,l in zip(figs,x,y):\n",
    "        f.imshow(i.view(28,28).numpy())\n",
    "        f.set_title(l)\n",
    "    \n",
    "    plt.show()"
   ]
  },
  {
   "cell_type": "code",
   "execution_count": 24,
   "id": "c4e5d79d",
   "metadata": {},
   "outputs": [
    {
     "data": {
      "image/png": "[encoded data removed]",
      "text/plain": [
       "<Figure size 864x864 with 9 Axes>"
      ]
     },
     "metadata": {
      "needs_background": "light"
     },
     "output_type": "display_data"
    }
   ],
   "source": [
    "x,y = iter(test_iter).next()\n",
    "true_labels = get_fashion_mnist_labels(y.numpy())\n",
    "pred_labels = get_fashion_mnist_labels(net(x).argmax(dim=1).numpy())\n",
    "titles = [true + '\\n' + pre for true,pre in zip(true_labels,pred_labels)]\n",
    "\n",
    "show_fashion_mnist(x[0:9],titles[0:9])"
   ]
  },
  {
   "cell_type": "markdown",
   "id": "bf8abe26",
   "metadata": {},
   "source": [
    "### softmax回归的简洁实现"
   ]
  },
  {
   "cell_type": "code",
   "execution_count": 25,
   "id": "dd380259",
   "metadata": {},
   "outputs": [],
   "source": [
    "import torch\n",
    "from torch.nn import init"
   ]
  },
  {
   "cell_type": "markdown",
   "id": "dbeeaaf1",
   "metadata": {},
   "source": [
    "#### 获取和读取数据"
   ]
  },
  {
   "cell_type": "code",
   "execution_count": 26,
   "id": "5ce8fc75",
   "metadata": {},
   "outputs": [],
   "source": [
    "batch_size = 256\n",
    "train_data = torchvision.datasets.FashionMNIST('./data/FashionMNIST',train=True,transform=torchvision.transforms.ToTensor(),download=True)\n",
    "test_data = torchvision.datasets.FashionMNIST('./data/FashionMNIST',train=False,transform=torchvision.transforms.ToTensor(),download=True)"
   ]
  },
  {
   "cell_type": "code",
   "execution_count": 27,
   "id": "3036fb34",
   "metadata": {},
   "outputs": [],
   "source": [
    "train_iter = torch.utils.data.DataLoader(train_data,batch_size,shuffle=True)\n",
    "test_iter = torch.utils.data.DataLoader(test_data,batch_size,shuffle=False)"
   ]
  },
  {
   "cell_type": "markdown",
   "id": "12e51476",
   "metadata": {},
   "source": [
    "#### 定义和初始化模型\n",
    "    softmax回归的输出层是一个全连接层，所以用一个线性模块即可\n",
    "    前面数据返回的每个 batch 样本 x 的形状为(batch_size, 1, 28, 28)\n",
    "    所以要先用 view() 将 x 的形状转换成(batch_size, 784)才送入全连接层"
   ]
  },
  {
   "cell_type": "code",
   "execution_count": 28,
   "id": "9a31654a",
   "metadata": {},
   "outputs": [],
   "source": [
    "num_inputs = 784\n",
    "num_outputs = 10"
   ]
  },
  {
   "cell_type": "code",
   "execution_count": 29,
   "id": "b830f2fe",
   "metadata": {},
   "outputs": [],
   "source": [
    "class Net(torch.nn.Module):\n",
    "    def __init__(self,num_inputs,num_outputs):\n",
    "        super(Net,self).__init__()\n",
    "        self.fc = torch.nn.Linear(num_inputs,num_outputs)\n",
    "        \n",
    "    def forward(self,x):\n",
    "        out = self.fc(x.view(x.shape[0],-1))\n",
    "        return out"
   ]
  },
  {
   "cell_type": "code",
   "execution_count": 32,
   "id": "e4cf84f5",
   "metadata": {},
   "outputs": [
    {
     "data": {
      "text/plain": [
       "Net(\n",
       "  (fc): Linear(in_features=784, out_features=10, bias=True)\n",
       ")"
      ]
     },
     "execution_count": 32,
     "metadata": {},
     "output_type": "execute_result"
    }
   ],
   "source": [
    "net = Net(num_inputs,num_outputs)\n",
    "net"
   ]
  },
  {
   "cell_type": "code",
   "execution_count": 34,
   "id": "2f79daf1",
   "metadata": {},
   "outputs": [
    {
     "data": {
      "text/plain": [
       "Parameter containing:\n",
       "tensor([0., 0., 0., 0., 0., 0., 0., 0., 0., 0.], requires_grad=True)"
      ]
     },
     "execution_count": 34,
     "metadata": {},
     "output_type": "execute_result"
    }
   ],
   "source": [
    "# 使用均值为0、标准差为0.01的正态分布随机初始化模型的权重参数\n",
    "# w = torch.tensor(np.random.normal(0,0.01,(num_inputs,num_outputs)),dtype=torch.float)\n",
    "# b = torch.zeros(num_outputs,dtype=torch.float)\n",
    "init.normal_(net.fc.weight,mean=0,std=0.01)\n",
    "init.constant_(net.fc.bias,val=0)"
   ]
  },
  {
   "cell_type": "markdown",
   "id": "1b00616b",
   "metadata": {},
   "source": [
    "#### softmax和交叉熵损失函数\n",
    "    分开定义softmax运算和交叉熵损失函数可能会造成数值不稳定\n",
    "    因此，PyTorch提供了一个包括 softmax 运算和交叉熵损失计算的函数"
   ]
  },
  {
   "cell_type": "code",
   "execution_count": 35,
   "id": "4a7404f2",
   "metadata": {},
   "outputs": [],
   "source": [
    "loss_fn = torch.nn.CrossEntropyLoss()"
   ]
  },
  {
   "cell_type": "markdown",
   "id": "d4c66357",
   "metadata": {},
   "source": [
    "#### 定义优化算法"
   ]
  },
  {
   "cell_type": "code",
   "execution_count": 36,
   "id": "11059345",
   "metadata": {},
   "outputs": [],
   "source": [
    "# 使用学习率为0.1的小批量随机梯度下降作为优化算法\n",
    "lr = 0.1\n",
    "optimizer = torch.optim.SGD(net.parameters(),lr=lr)"
   ]
  },
  {
   "cell_type": "markdown",
   "id": "093ad3b0",
   "metadata": {},
   "source": [
    "#### 训练模型"
   ]
  },
  {
   "cell_type": "code",
   "execution_count": 38,
   "id": "ca65d23c",
   "metadata": {},
   "outputs": [
    {
     "name": "stdout",
     "output_type": "stream",
     "text": [
      "epoch: 1 train_loss: 0.0019 train_acc: 0.841 test_acc: 0.829\n",
      "epoch: 2 train_loss: 0.0018 train_acc: 0.843 test_acc: 0.820\n",
      "epoch: 3 train_loss: 0.0018 train_acc: 0.846 test_acc: 0.826\n",
      "epoch: 4 train_loss: 0.0018 train_acc: 0.846 test_acc: 0.835\n",
      "epoch: 5 train_loss: 0.0017 train_acc: 0.849 test_acc: 0.829\n"
     ]
    }
   ],
   "source": [
    "epochs = 5\n",
    "for epoch in range(epochs):\n",
    "    train_loss_sum,train_acc_sum,train_n = 0.0,0.0,0\n",
    "    test_acc_sum,test_n = 0.0,0\n",
    "    for x,y in train_iter:\n",
    "        y_hat = net(x)\n",
    "        loss = loss_fn(y_hat,y)\n",
    "        optimizer.zero_grad()\n",
    "        loss.backward()\n",
    "        optimizer.step()\n",
    "        \n",
    "        train_acc_sum += (y_hat.argmax(dim=1) == y).float().sum().item()\n",
    "        train_loss_sum += loss.item()\n",
    "        train_n += y.shape[0]\n",
    "    \n",
    "    for x,y in test_iter:\n",
    "        y_hat = net(x)\n",
    "        loss = loss_fn(y_hat,y)\n",
    "        \n",
    "        test_acc_sum += (y_hat.argmax(dim=1) == y).float().sum().item()\n",
    "        test_n += y.shape[0]\n",
    "        \n",
    "    print('epoch: %d train_loss: %.4f train_acc: %.3f test_acc: %.3f'%(epoch + 1\n",
    "                                                                       ,train_loss_sum / train_n,train_acc_sum / train_n\n",
    "                                                                       ,test_acc_sum / test_n))"
   ]
  },
  {
   "cell_type": "markdown",
   "id": "17a00cea",
   "metadata": {},
   "source": [
    "#### 预测"
   ]
  },
  {
   "cell_type": "code",
   "execution_count": null,
   "id": "46a027b9",
   "metadata": {},
   "outputs": [],
   "source": []
  }
 ],
 "metadata": {
  "kernelspec": {
   "display_name": "Python 3 (ipykernel)",
   "language": "python",
   "name": "python3"
  },
  "language_info": {
   "codemirror_mode": {
    "name": "ipython",
    "version": 3
   },
   "file_extension": ".py",
   "mimetype": "text/x-python",
   "name": "python",
   "nbconvert_exporter": "python",
   "pygments_lexer": "ipython3",
   "version": "3.9.7"
  }
 },
 "nbformat": 4,
 "nbformat_minor": 5
}
