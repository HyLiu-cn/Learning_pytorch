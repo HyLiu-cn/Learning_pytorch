{
 "cells": [
  {
   "cell_type": "markdown",
   "id": "171463f3",
   "metadata": {},
   "source": [
    "### 多层感知机的从零开始实现"
   ]
  },
  {
   "cell_type": "code",
   "execution_count": 16,
   "id": "d04f5d91",
   "metadata": {},
   "outputs": [],
   "source": [
    "import torch\n",
    "import numpy as np\n",
    "import matplotlib.pyplot as plt\n",
    "import torchvision\n",
    "import sys"
   ]
  },
  {
   "cell_type": "markdown",
   "id": "ec35863a",
   "metadata": {},
   "source": [
    "#### 获取和读取数据"
   ]
  },
  {
   "cell_type": "code",
   "execution_count": 17,
   "id": "eb2ac821",
   "metadata": {},
   "outputs": [],
   "source": [
    "batch_size = 256\n",
    "train_data = torchvision.datasets.FashionMNIST('./data/FashionMNIST',train=True,transform=torchvision.transforms.ToTensor(),download=True)\n",
    "test_data = torchvision.datasets.FashionMNIST('./data/FashionMNIST',train=False,transform=torchvision.transforms.ToTensor(),download=True)\n",
    "\n",
    "train_iter = torch.utils.data.DataLoader(train_data,batch_size,shuffle=True)\n",
    "test_iter = torch.utils.data.DataLoader(test_data,batch_size,shuffle=False)"
   ]
  },
  {
   "cell_type": "markdown",
   "id": "df455940",
   "metadata": {},
   "source": [
    "#### 定义模型参数"
   ]
  },
  {
   "cell_type": "code",
   "execution_count": 18,
   "id": "d91b86ca",
   "metadata": {},
   "outputs": [],
   "source": [
    "num_inputs = 28 * 28\n",
    "num_outputs = 10\n",
    "num_hiddens = 256 # 隐藏单元个数\n",
    "w_1 = torch.tensor(np.random.normal(0,0.01,(num_inputs,num_hiddens)),dtype=torch.float)\n",
    "b_1 = torch.zeros(num_hiddens,dtype=torch.float)\n",
    "w_2 = torch.tensor(np.random.normal(0,0.01,(num_hiddens,num_outputs)),dtype=torch.float)\n",
    "b_2 = torch.zeros(num_outputs,dtype=torch.float)\n",
    "\n",
    "params = [w_1,b_1,w_2,b_2]\n",
    "for param in params:\n",
    "    param.requires_grad_(requires_grad=True)"
   ]
  },
  {
   "cell_type": "markdown",
   "id": "629a0e9c",
   "metadata": {},
   "source": [
    "#### 定义激活函数:\n",
    "    使用基础的max函数来实现ReLU"
   ]
  },
  {
   "cell_type": "code",
   "execution_count": 19,
   "id": "14b0aec3",
   "metadata": {},
   "outputs": [],
   "source": [
    "def relu(x):\n",
    "#     return torch.max(torch.tensor([x,0]))\n",
    "    a = torch.zeros_like(x)\n",
    "    return torch.max(x,a)"
   ]
  },
  {
   "cell_type": "markdown",
   "id": "45b9d11d",
   "metadata": {},
   "source": [
    "#### 定义模型\n",
    "![mlp_2](./img/3.6/mlp_2.png)"
   ]
  },
  {
   "cell_type": "code",
   "execution_count": 20,
   "id": "45046d00",
   "metadata": {},
   "outputs": [],
   "source": [
    "def net(x):\n",
    "    x = x.view(-1,num_inputs)\n",
    "    H = relu(torch.mm(x,w_1) + b_1)\n",
    "    O = torch.mm(H,w_2) + b_2\n",
    "    return O"
   ]
  },
  {
   "cell_type": "markdown",
   "id": "a9c59191",
   "metadata": {},
   "source": [
    "#### 定义损失函数"
   ]
  },
  {
   "cell_type": "code",
   "execution_count": 21,
   "id": "90963ef5",
   "metadata": {},
   "outputs": [],
   "source": [
    "# 直接使用PyTorch提供的包括softmax运算和交叉熵损失计算的函数\n",
    "loss_fn = torch.nn.CrossEntropyLoss()"
   ]
  },
  {
   "cell_type": "markdown",
   "id": "d73c0876",
   "metadata": {},
   "source": [
    "#### 训练模型"
   ]
  },
  {
   "cell_type": "code",
   "execution_count": 22,
   "id": "d77df340",
   "metadata": {},
   "outputs": [
    {
     "name": "stdout",
     "output_type": "stream",
     "text": [
      "epoch: 1 tran_loss: 0.0030 train_acc: 0.715 test_acc: 0.800\n",
      "epoch: 2 tran_loss: 0.0019 train_acc: 0.821 test_acc: 0.800\n",
      "epoch: 3 tran_loss: 0.0017 train_acc: 0.844 test_acc: 0.827\n",
      "epoch: 4 tran_loss: 0.0015 train_acc: 0.855 test_acc: 0.819\n",
      "epoch: 5 tran_loss: 0.0015 train_acc: 0.861 test_acc: 0.857\n"
     ]
    }
   ],
   "source": [
    "# 设超参数迭代周期数为5，学习率为100.0\n",
    "eporchs = 5\n",
    "lr = 100.0\n",
    "for epoch in range(eporchs):\n",
    "    train_loss_sum,train_acc_sum,train_n = 0.0,0.0,0\n",
    "    test_acc_sum,test_n = 0.0,0\n",
    "    for x,y in train_iter:\n",
    "        y_hat = net(x)\n",
    "        loss = loss_fn(y_hat,y)\n",
    "        if params is not None and params[0].grad is not None:\n",
    "            for param in params:\n",
    "                param.grad.data.zero_()\n",
    "            \n",
    "        loss.backward()\n",
    "        for param in params:\n",
    "            param.data -= param.grad * lr / batch_size\n",
    "        \n",
    "        train_acc_sum += (y_hat.argmax(dim=1) == y).float().sum().item()\n",
    "        train_loss_sum += loss.item()\n",
    "        train_n += y.shape[0]\n",
    "        \n",
    "    for x,y in test_iter:\n",
    "        y_hat = net(x)\n",
    "        test_acc_sum += (y_hat.argmax(dim=1) == y).float().sum().item()\n",
    "        test_n += y.shape[0]\n",
    "    print('epoch: %d tran_loss: %.4f train_acc: %.3f test_acc: %.3f'%(epoch+1\n",
    "                                                                      ,train_loss_sum / train_n,train_acc_sum / train_n\n",
    "                                                                      ,test_acc_sum / test_n))"
   ]
  },
  {
   "cell_type": "markdown",
   "id": "8f3f481c",
   "metadata": {},
   "source": [
    "### 多层感知机的简洁实现"
   ]
  },
  {
   "cell_type": "markdown",
   "id": "43658964",
   "metadata": {},
   "source": [
    "#### 定义模型"
   ]
  },
  {
   "cell_type": "code",
   "execution_count": 49,
   "id": "394d0b22",
   "metadata": {},
   "outputs": [],
   "source": [
    "# class Net(torch.nn.Module):\n",
    "#     def __init__(self,num_inputs,num_hiddens,num_outputs):\n",
    "#         super(Net,self).__init__()\n",
    "#         self.fl = torch.nn.Flatten()\n",
    "#         self.mlp_1 = torch.nn.Linear(num_inputs,num_hiddens)\n",
    "#         self.act = torch.nn.ReLU()\n",
    "#         self.mlp_2 = torch.nn.Linear(num_hiddens,num_outputs)\n",
    "        \n",
    "#     def forward(self,x):\n",
    "#         x = self.fl(x)\n",
    "#         out = self.mlp_1(x)\n",
    "#         out = self.act(out)\n",
    "#         out = self.mlp_2(out)\n",
    "#         return out\n",
    "    \n",
    "net = torch.nn.Sequential(\n",
    "    torch.nn.Flatten(),\n",
    "    torch.nn.Linear(num_inputs,num_hiddens),\n",
    "    torch.nn.ReLU(),\n",
    "    torch.nn.Linear(num_hiddens,num_outputs)\n",
    ")"
   ]
  },
  {
   "cell_type": "code",
   "execution_count": 50,
   "id": "e3b92df3",
   "metadata": {},
   "outputs": [
    {
     "data": {
      "text/plain": [
       "Sequential(\n",
       "  (0): Flatten(start_dim=1, end_dim=-1)\n",
       "  (1): Linear(in_features=784, out_features=256, bias=True)\n",
       "  (2): ReLU()\n",
       "  (3): Linear(in_features=256, out_features=10, bias=True)\n",
       ")"
      ]
     },
     "execution_count": 50,
     "metadata": {},
     "output_type": "execute_result"
    }
   ],
   "source": [
    "# net = Net(num_inputs,num_hiddens,num_outputs)\n",
    "net"
   ]
  },
  {
   "cell_type": "code",
   "execution_count": 54,
   "id": "a645e097",
   "metadata": {},
   "outputs": [],
   "source": [
    "# 对模型的 参数 进行重新初始化赋值\n",
    "for param in net.parameters():\n",
    "    torch.nn.init.normal_(param,mean=0,std=0.01)"
   ]
  },
  {
   "cell_type": "code",
   "execution_count": 55,
   "id": "79070adb",
   "metadata": {},
   "outputs": [],
   "source": [
    "loss_fn = torch.nn.CrossEntropyLoss()\n",
    "optimizer = torch.optim.SGD(net.parameters(),lr=0.5)"
   ]
  },
  {
   "cell_type": "code",
   "execution_count": 48,
   "id": "29e2e788",
   "metadata": {},
   "outputs": [
    {
     "name": "stdout",
     "output_type": "stream",
     "text": [
      "epoch: 1 tran_loss: 0.0031 train_acc: 0.703 test_acc: 0.795\n",
      "epoch: 2 tran_loss: 0.0019 train_acc: 0.823 test_acc: 0.829\n",
      "epoch: 3 tran_loss: 0.0016 train_acc: 0.846 test_acc: 0.846\n",
      "epoch: 4 tran_loss: 0.0015 train_acc: 0.856 test_acc: 0.859\n",
      "epoch: 5 tran_loss: 0.0014 train_acc: 0.865 test_acc: 0.830\n"
     ]
    }
   ],
   "source": [
    "for epoch in range(eporchs):\n",
    "    train_loss_sum,train_acc_sum,train_n = 0.0,0.0,0\n",
    "    test_acc_sum,test_n = 0.0,0\n",
    "    for x,y in train_iter:\n",
    "        y_hat = net(x)\n",
    "        loss = loss_fn(y_hat,y)\n",
    "        \n",
    "        optimizer.zero_grad()\n",
    "        loss.backward()\n",
    "        optimizer.step()\n",
    "        \n",
    "        train_acc_sum += (y_hat.argmax(dim=1) == y).float().sum().item()\n",
    "        train_loss_sum += loss.item()\n",
    "        train_n += y.shape[0]\n",
    "        \n",
    "    for x,y in test_iter:\n",
    "        y_hat = net(x)\n",
    "        test_acc_sum += (y_hat.argmax(dim=1) == y).float().sum().item()\n",
    "        test_n += y.shape[0]\n",
    "    print('epoch: %d tran_loss: %.4f train_acc: %.3f test_acc: %.3f'%(epoch+1\n",
    "                                                                      ,train_loss_sum / train_n,train_acc_sum / train_n\n",
    "                                                                      ,test_acc_sum / test_n))"
   ]
  },
  {
   "cell_type": "code",
   "execution_count": null,
   "id": "46da293b",
   "metadata": {},
   "outputs": [],
   "source": []
  }
 ],
 "metadata": {
  "kernelspec": {
   "display_name": "Python 3 (ipykernel)",
   "language": "python",
   "name": "python3"
  },
  "language_info": {
   "codemirror_mode": {
    "name": "ipython",
    "version": 3
   },
   "file_extension": ".py",
   "mimetype": "text/x-python",
   "name": "python",
   "nbconvert_exporter": "python",
   "pygments_lexer": "ipython3",
   "version": "3.9.7"
  }
 },
 "nbformat": 4,
 "nbformat_minor": 5
}
