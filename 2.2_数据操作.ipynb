{
 "cells": [
  {
   "cell_type": "code",
   "execution_count": 1,
   "id": "59f39653",
   "metadata": {},
   "outputs": [],
   "source": [
    "import torch"
   ]
  },
  {
   "cell_type": "markdown",
   "id": "7a48f451",
   "metadata": {},
   "source": [
    "### 创建tensor\n",
    "    Tensor提供GPU计算和自动求梯度等更多功能，这些使Tensor更加适合深度学习"
   ]
  },
  {
   "cell_type": "code",
   "execution_count": 2,
   "id": "5969332b",
   "metadata": {},
   "outputs": [
    {
     "data": {
      "text/plain": [
       "tensor([[2.7453e-14, 5.3109e-43, 2.7453e-14],\n",
       "        [5.3109e-43, 2.7453e-14, 5.3109e-43],\n",
       "        [2.7453e-14, 5.3109e-43, 2.7453e-14],\n",
       "        [5.3109e-43, 2.7453e-14, 5.3109e-43],\n",
       "        [2.7453e-14, 5.3109e-43, 2.7453e-14]])"
      ]
     },
     "execution_count": 2,
     "metadata": {},
     "output_type": "execute_result"
    }
   ],
   "source": [
    "# 创建一个5x3的未初始化的Tensor\n",
    "x = torch.empty((5,3))\n",
    "x"
   ]
  },
  {
   "cell_type": "code",
   "execution_count": 3,
   "id": "0fb232b4",
   "metadata": {},
   "outputs": [
    {
     "data": {
      "text/plain": [
       "tensor([[0.0615, 0.8938, 0.6958],\n",
       "        [0.2092, 0.6197, 0.7342],\n",
       "        [0.8067, 0.5925, 0.6988],\n",
       "        [0.0456, 0.6773, 0.0826],\n",
       "        [0.9243, 0.3691, 0.1360]])"
      ]
     },
     "execution_count": 3,
     "metadata": {},
     "output_type": "execute_result"
    }
   ],
   "source": [
    "# 创建一个5x3的随机初始化的Tensor\n",
    "x = torch.rand(5,3)\n",
    "x"
   ]
  },
  {
   "cell_type": "code",
   "execution_count": 4,
   "id": "711a2dd6",
   "metadata": {},
   "outputs": [
    {
     "data": {
      "text/plain": [
       "tensor([[0, 0, 0],\n",
       "        [0, 0, 0],\n",
       "        [0, 0, 0],\n",
       "        [0, 0, 0],\n",
       "        [0, 0, 0]])"
      ]
     },
     "execution_count": 4,
     "metadata": {},
     "output_type": "execute_result"
    }
   ],
   "source": [
    "# 创建一个5x3的long型全0的Tensor\n",
    "x = torch.zeros((5,3),dtype=torch.long)\n",
    "x"
   ]
  },
  {
   "cell_type": "code",
   "execution_count": 5,
   "id": "7248fd32",
   "metadata": {},
   "outputs": [
    {
     "data": {
      "text/plain": [
       "tensor([5.5000, 3.0000])"
      ]
     },
     "execution_count": 5,
     "metadata": {},
     "output_type": "execute_result"
    }
   ],
   "source": [
    "# 直接根据数据创建\n",
    "x = torch.tensor([5.5,3])\n",
    "x"
   ]
  },
  {
   "cell_type": "code",
   "execution_count": 6,
   "id": "7c0b3ad6",
   "metadata": {},
   "outputs": [
    {
     "name": "stdout",
     "output_type": "stream",
     "text": [
      "tensor([[1., 1., 1.],\n",
      "        [1., 1., 1.],\n",
      "        [1., 1., 1.],\n",
      "        [1., 1., 1.],\n",
      "        [1., 1., 1.]], dtype=torch.float64)\n",
      "tensor([[ 0.1714, -1.1986,  0.9039],\n",
      "        [-1.3208,  0.5313,  0.8196],\n",
      "        [ 1.5630, -0.0634,  0.2514],\n",
      "        [ 0.2558, -0.2120, -0.6837],\n",
      "        [ 0.1621,  0.7266, -1.0051]])\n"
     ]
    }
   ],
   "source": [
    "# 通过现有的Tensor来创建\n",
    "x = x.new_ones(5,3,dtype=torch.float64) # 返回的tensor默认具有相同的torch.dtype和torch.device\n",
    "print(x)\n",
    "\n",
    "x = torch.randn_like(x,dtype=torch.float) # 指定新的数据类型\n",
    "print(x)"
   ]
  },
  {
   "cell_type": "code",
   "execution_count": 7,
   "id": "9c8772f5",
   "metadata": {},
   "outputs": [
    {
     "name": "stdout",
     "output_type": "stream",
     "text": [
      "torch.Size([5, 3])\n",
      "torch.Size([5, 3])\n"
     ]
    }
   ],
   "source": [
    "# 通过shape或者size()来获取Tensor的形状\n",
    "print(x.size())\n",
    "print(x.shape)"
   ]
  },
  {
   "cell_type": "markdown",
   "id": "3fa59f51",
   "metadata": {},
   "source": [
    "#### 其他创建方式：\n",
    "    eye(*sizes)        对角线为1，其他为0\n",
    "    arange(s,e,step)   从s到e，步长为step\n",
    "    rand/randn(*sizes) 均匀/标准分布\n",
    "    normal(mean,std)/uniform(from,to) 正态分布/均匀分布\n",
    "    randperm(m)        随机排列"
   ]
  },
  {
   "cell_type": "markdown",
   "id": "5f6f2510",
   "metadata": {},
   "source": [
    "### 操作\n"
   ]
  },
  {
   "cell_type": "code",
   "execution_count": 8,
   "id": "69e15677",
   "metadata": {},
   "outputs": [
    {
     "name": "stdout",
     "output_type": "stream",
     "text": [
      "tensor([[ 3.7521e-01, -9.9798e-01,  1.7376e+00],\n",
      "        [-1.0019e+00,  1.2528e+00,  1.3783e+00],\n",
      "        [ 1.8117e+00,  7.5613e-01,  7.6144e-01],\n",
      "        [ 8.0492e-01,  4.6593e-01,  4.0054e-04],\n",
      "        [ 6.7531e-01,  8.4384e-01, -2.1128e-01]])\n"
     ]
    },
    {
     "data": {
      "text/plain": [
       "tensor([[ 3.7521e-01, -9.9798e-01,  1.7376e+00],\n",
       "        [-1.0019e+00,  1.2528e+00,  1.3783e+00],\n",
       "        [ 1.8117e+00,  7.5613e-01,  7.6144e-01],\n",
       "        [ 8.0492e-01,  4.6593e-01,  4.0054e-04],\n",
       "        [ 6.7531e-01,  8.4384e-01, -2.1128e-01]])"
      ]
     },
     "execution_count": 8,
     "metadata": {},
     "output_type": "execute_result"
    }
   ],
   "source": [
    "# 算术操作 \n",
    "y = torch.rand(5,3)\n",
    "print(x+y)\n",
    "torch.add(x,y)\n",
    "# torch.mul(x,y)\n",
    "# torch.div(x,y)\n",
    "# torch.sub(x,y)"
   ]
  },
  {
   "cell_type": "code",
   "execution_count": 9,
   "id": "8472273f",
   "metadata": {},
   "outputs": [
    {
     "name": "stdout",
     "output_type": "stream",
     "text": [
      "tensor([ 0.1714, -1.1986,  0.9039])\n",
      "tensor([ 1.1714, -0.1986,  1.9039])\n",
      "tensor([ 1.1714, -0.1986,  1.9039])\n"
     ]
    }
   ],
   "source": [
    "# 索引：可以使用类似NumPy的索引操作来访问Tensor的一部分，需要注意的是：索引出来的结果与原数据共享内存，也即修改一个，另一个会跟着修改\n",
    "y = x[0,:]\n",
    "print(x[0,:])\n",
    "y += 1\n",
    "print(y)\n",
    "print(x[0,:])"
   ]
  },
  {
   "cell_type": "markdown",
   "id": "cacff942",
   "metadata": {},
   "source": [
    "#### :\n",
    "    index_select(input, dim, index) 在指定维度dim上选取，比如选取某些行、某些列\n",
    "    masked_select(input, mask)      例子如上，a[a>0]，使用ByteTensor进行选取\n",
    "    nonzero(input)                  非0元素的下标\n",
    "    gather(input, dim, index)       根据index，在dim维度上选取数据，输出的size与index一样"
   ]
  },
  {
   "cell_type": "code",
   "execution_count": 12,
   "id": "2f330edc",
   "metadata": {},
   "outputs": [
    {
     "name": "stdout",
     "output_type": "stream",
     "text": [
      "torch.Size([5, 3])\n",
      "torch.Size([3, 5])\n"
     ]
    }
   ],
   "source": [
    "# 改变tensor形状: view / reshape\n",
    "y = x.shape\n",
    "print(y)\n",
    "z = x.view(-1,5) # -1所指的维度可以根据其他维度的值推出来\n",
    "# view()返回的新Tensor与源Tensor虽然可能有不同的size，但是是共享data的\n",
    "print(z.shape)"
   ]
  },
  {
   "cell_type": "code",
   "execution_count": 13,
   "id": "dbd9d326",
   "metadata": {},
   "outputs": [],
   "source": [
    "# 线性代数"
   ]
  },
  {
   "cell_type": "markdown",
   "id": "fba1eb8e",
   "metadata": {},
   "source": [
    "#### :\n",
    "    trace     对角线元素之和(矩阵的迹)\n",
    "    t         转置\n",
    "    dot/cross 内积/外积\n",
    "    svd       奇异值分解"
   ]
  },
  {
   "cell_type": "markdown",
   "id": "5fa408da",
   "metadata": {},
   "source": [
    "### 广播机制：\n",
    "    当对两个形状不同的Tensor按元素运算时，可能会触发广播（broadcasting）机制：先适当复制元素使这两个Tensor形状相同后再按元素运算"
   ]
  },
  {
   "cell_type": "code",
   "execution_count": 14,
   "id": "9155b9fd",
   "metadata": {},
   "outputs": [
    {
     "name": "stdout",
     "output_type": "stream",
     "text": [
      "tensor([[2, 3],\n",
      "        [3, 4],\n",
      "        [4, 5]])\n"
     ]
    }
   ],
   "source": [
    "x = torch.arange(1, 3).view(1, 2)\n",
    "y = torch.arange(1, 4).view(3, 1)\n",
    "print(x + y)\n",
    "# 由于x和y分别是1行2列和3行1列的矩阵，如果要计算x + y，\n",
    "# 那么x中第一行的2个元素被广播（复制）到了第二行和第三行，而y中第一列的3个元素被广播（复制）到了第二列"
   ]
  },
  {
   "cell_type": "markdown",
   "id": "5c74b932",
   "metadata": {},
   "source": [
    "### Tensor和NumPy相互转换\n",
    "    numpy()和from_numpy(),这两个函数所产生的的Tensor和NumPy中的数组共享相同的内存\n",
    "    \n",
    "    torch.tensor()将NumPy数组转换成Tensor,该方法总是会进行数据拷贝，返回的Tensor和原来的数据不再共享内存"
   ]
  },
  {
   "cell_type": "code",
   "execution_count": 18,
   "id": "ed25ca15",
   "metadata": {},
   "outputs": [
    {
     "name": "stdout",
     "output_type": "stream",
     "text": [
      "tensor([1., 1., 1., 1., 1.])\n",
      "[1. 1. 1. 1. 1.]\n",
      "tensor([2., 2., 2., 2., 2.]) [2. 2. 2. 2. 2.]\n"
     ]
    }
   ],
   "source": [
    "# Tensor -> numpy 数组\n",
    "a = torch.ones(5)\n",
    "print(a)\n",
    "b = a.numpy()\n",
    "print(b)\n",
    "a += 1\n",
    "print(a,b)"
   ]
  },
  {
   "cell_type": "code",
   "execution_count": 19,
   "id": "f90d10e1",
   "metadata": {},
   "outputs": [
    {
     "name": "stdout",
     "output_type": "stream",
     "text": [
      "[1. 1. 1. 1. 1.]\n",
      "tensor([1., 1., 1., 1., 1.], dtype=torch.float64)\n"
     ]
    }
   ],
   "source": [
    "# numpy 数组 -> Tensor\n",
    "import numpy as np\n",
    "c = np.ones(5)\n",
    "print(c)\n",
    "d = torch.from_numpy(c)\n",
    "print(d)"
   ]
  },
  {
   "cell_type": "code",
   "execution_count": 22,
   "id": "de05c2f5",
   "metadata": {},
   "outputs": [
    {
     "name": "stdout",
     "output_type": "stream",
     "text": [
      "[1. 1. 1. 1. 1.] tensor([1., 1., 1., 1., 1.], dtype=torch.float64)\n",
      "[1. 1. 1. 1. 1.] tensor([2., 2., 2., 2., 2.], dtype=torch.float64)\n"
     ]
    }
   ],
   "source": [
    "e = torch.tensor(c) # 返回的Tensor和原来的数据不再共享内存\n",
    "print(c,e)\n",
    "e += 1\n",
    "print(c,e)"
   ]
  },
  {
   "cell_type": "markdown",
   "id": "e931c8b1",
   "metadata": {},
   "source": [
    "### Tensor on GPU\n",
    "    用方法to()可以将Tensor在CPU和GPU（需要硬件支持）之间相互移动"
   ]
  },
  {
   "cell_type": "code",
   "execution_count": null,
   "id": "0705fdf4",
   "metadata": {},
   "outputs": [],
   "source": []
  }
 ],
 "metadata": {
  "kernelspec": {
   "display_name": "Python 3 (ipykernel)",
   "language": "python",
   "name": "python3"
  },
  "language_info": {
   "codemirror_mode": {
    "name": "ipython",
    "version": 3
   },
   "file_extension": ".py",
   "mimetype": "text/x-python",
   "name": "python",
   "nbconvert_exporter": "python",
   "pygments_lexer": "ipython3",
   "version": "3.9.7"
  }
 },
 "nbformat": 4,
 "nbformat_minor": 5
}
