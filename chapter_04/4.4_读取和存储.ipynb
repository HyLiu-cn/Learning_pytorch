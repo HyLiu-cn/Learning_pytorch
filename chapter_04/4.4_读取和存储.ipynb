{
 "cells": [
  {
   "cell_type": "markdown",
   "id": "4d937e9e",
   "metadata": {},
   "source": [
    "### :\n",
    "    把内存中训练好的模型参数存储在硬盘上供后续读取使用"
   ]
  },
  {
   "cell_type": "markdown",
   "id": "915b29ad",
   "metadata": {},
   "source": [
    "### 读写Tensor:\n",
    "    可以直接使用 save 函数和 load 函数分别存储和读取 Tensor"
   ]
  },
  {
   "cell_type": "code",
   "execution_count": 1,
   "id": "0a063302",
   "metadata": {},
   "outputs": [],
   "source": [
    "import torch\n",
    "import numpy as np"
   ]
  },
  {
   "cell_type": "code",
   "execution_count": 9,
   "id": "16619d06",
   "metadata": {},
   "outputs": [],
   "source": [
    "x = torch.ones(3)"
   ]
  },
  {
   "cell_type": "code",
   "execution_count": 10,
   "id": "a367150d",
   "metadata": {},
   "outputs": [],
   "source": [
    "torch.save(x,'./save/x.pt')"
   ]
  },
  {
   "cell_type": "code",
   "execution_count": 11,
   "id": "0a7f5c75",
   "metadata": {},
   "outputs": [
    {
     "data": {
      "text/plain": [
       "tensor([1., 1., 1.])"
      ]
     },
     "execution_count": 11,
     "metadata": {},
     "output_type": "execute_result"
    }
   ],
   "source": [
    "x2 = torch.load('./save/x.pt')\n",
    "x2"
   ]
  },
  {
   "cell_type": "code",
   "execution_count": 12,
   "id": "558d5f9a",
   "metadata": {},
   "outputs": [
    {
     "data": {
      "text/plain": [
       "[tensor([1., 1., 1.]), tensor([0., 0., 0., 0.])]"
      ]
     },
     "execution_count": 12,
     "metadata": {},
     "output_type": "execute_result"
    }
   ],
   "source": [
    "# 还可以存储一个 Tensor 列表并读回内存\n",
    "y = torch.zeros(4)\n",
    "torch.save([x,y],'./save/x_y_list.pt')\n",
    "xy_list = torch.load('./save/x_y_list.pt')\n",
    "xy_list"
   ]
  },
  {
   "cell_type": "code",
   "execution_count": 14,
   "id": "4b3d9913",
   "metadata": {},
   "outputs": [
    {
     "data": {
      "text/plain": [
       "{'x': tensor([1., 1., 1.]), 'y': tensor([0., 0., 0., 0.])}"
      ]
     },
     "execution_count": 14,
     "metadata": {},
     "output_type": "execute_result"
    }
   ],
   "source": [
    "# 读取一个从字符串映射到 Tensor 的字典\n",
    "torch.save({'x':x,'y':y},'./save/xy_dict.pt')\n",
    "xy_dict = torch.load('./save/xy_dict.pt')\n",
    "xy_dict"
   ]
  },
  {
   "cell_type": "markdown",
   "id": "f33fbaab",
   "metadata": {},
   "source": [
    "### 读写模型"
   ]
  },
  {
   "cell_type": "markdown",
   "id": "706babb3",
   "metadata": {},
   "source": [
    "##### state_dict:\n",
    "    state_dict是一个从参数名称隐射到参数Tesnor的字典对象"
   ]
  },
  {
   "cell_type": "code",
   "execution_count": 19,
   "id": "3ce03989",
   "metadata": {},
   "outputs": [],
   "source": [
    "class MLP(torch.nn.Module):\n",
    "    def __init__(self):\n",
    "        super(MLP,self).__init__()\n",
    "        self.hidden = torch.nn.Linear(3,2)\n",
    "        self.act = torch.nn.ReLU()\n",
    "        self.output = torch.nn.Linear(2,1)\n",
    "    def forward(self,x):\n",
    "        out = self.output(self.act(self.hidden(x)))\n",
    "        return out"
   ]
  },
  {
   "cell_type": "code",
   "execution_count": 20,
   "id": "c9cb0961",
   "metadata": {},
   "outputs": [
    {
     "data": {
      "text/plain": [
       "MLP(\n",
       "  (hidden): Linear(in_features=3, out_features=2, bias=True)\n",
       "  (act): ReLU()\n",
       "  (output): Linear(in_features=2, out_features=1, bias=True)\n",
       ")"
      ]
     },
     "execution_count": 20,
     "metadata": {},
     "output_type": "execute_result"
    }
   ],
   "source": [
    "net = MLP()\n",
    "net"
   ]
  },
  {
   "cell_type": "code",
   "execution_count": 21,
   "id": "8243c36e",
   "metadata": {},
   "outputs": [
    {
     "data": {
      "text/plain": [
       "OrderedDict([('hidden.weight',\n",
       "              tensor([[ 0.0756,  0.4586, -0.5424],\n",
       "                      [ 0.3426, -0.4228,  0.5319]])),\n",
       "             ('hidden.bias', tensor([ 0.0533, -0.4768])),\n",
       "             ('output.weight', tensor([[-0.6741, -0.4605]])),\n",
       "             ('output.bias', tensor([0.0383]))])"
      ]
     },
     "execution_count": 21,
     "metadata": {},
     "output_type": "execute_result"
    }
   ],
   "source": [
    "net.state_dict() \n",
    "# 只有具有可学习参数的层(卷积层、线性层等)才有state_dict中的条目\n",
    "# 优化器(optim)也有一个state_dict，其中包含关于优化器状态以及所使用的超参数的信息"
   ]
  },
  {
   "cell_type": "markdown",
   "id": "8a8675d7",
   "metadata": {},
   "source": [
    "#### 保存和加载模型:\n",
    "    两种常见：\n",
    "        仅保存和加载模型参数(state_dict)： => 推荐优先使用\n",
    "            保存：torch.save(model.state_dict(), PATH) # 推荐的文件后缀名是pt或pth\n",
    "            加载：\n",
    "                model = TheModelClass(*args, **kwargs)\n",
    "                model.load_state_dict(torch.load(PATH))\n",
    "        保存和加载整个模型：\n",
    "            保存：torch.save(model, PATH)\n",
    "            加载：model = torch.load(PATH)"
   ]
  },
  {
   "cell_type": "code",
   "execution_count": 22,
   "id": "a97a229e",
   "metadata": {},
   "outputs": [],
   "source": [
    "# 保存和加载state_dict(推荐方式)\n",
    "x = torch.randn(2,3)\n",
    "out = net(x)"
   ]
  },
  {
   "cell_type": "code",
   "execution_count": 23,
   "id": "ec21a075",
   "metadata": {},
   "outputs": [],
   "source": [
    "PATH = './model/net.pt'\n",
    "torch.save(net.state_dict(),PATH)"
   ]
  },
  {
   "cell_type": "code",
   "execution_count": 24,
   "id": "abc80ef5",
   "metadata": {},
   "outputs": [
    {
     "data": {
      "text/plain": [
       "tensor([[True],\n",
       "        [True]])"
      ]
     },
     "execution_count": 24,
     "metadata": {},
     "output_type": "execute_result"
    }
   ],
   "source": [
    "net_2 = MLP()\n",
    "net_2.load_state_dict(torch.load(PATH))\n",
    "\n",
    "out_2 = net_2(x)\n",
    "out_2 == out # 这 net 和 net2 都有同样的模型参数，那么对同一个输入 x 的计算结果将会是一样的"
   ]
  },
  {
   "cell_type": "code",
   "execution_count": null,
   "id": "5c5137a3",
   "metadata": {},
   "outputs": [],
   "source": []
  }
 ],
 "metadata": {
  "kernelspec": {
   "display_name": "Python 3 (ipykernel)",
   "language": "python",
   "name": "python3"
  },
  "language_info": {
   "codemirror_mode": {
    "name": "ipython",
    "version": 3
   },
   "file_extension": ".py",
   "mimetype": "text/x-python",
   "name": "python",
   "nbconvert_exporter": "python",
   "pygments_lexer": "ipython3",
   "version": "3.9.7"
  }
 },
 "nbformat": 4,
 "nbformat_minor": 5
}
