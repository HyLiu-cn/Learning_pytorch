{
 "cells": [
  {
   "cell_type": "markdown",
   "id": "ef754d01",
   "metadata": {},
   "source": [
    "### :\n",
    "    使用Module来自定义层，从而可以被重复调用"
   ]
  },
  {
   "cell_type": "code",
   "execution_count": 1,
   "id": "c821c7bb",
   "metadata": {},
   "outputs": [],
   "source": [
    "import torch\n",
    "import numpy as np\n",
    "import sys"
   ]
  },
  {
   "cell_type": "markdown",
   "id": "16b2ba76",
   "metadata": {},
   "source": [
    "### 不含模型参数的自定义层:"
   ]
  },
  {
   "cell_type": "code",
   "execution_count": 2,
   "id": "4b7bb660",
   "metadata": {},
   "outputs": [],
   "source": [
    "class CLayer(torch.nn.Module):\n",
    "    def __init__(self,**kwargs):\n",
    "        super(CLayer,self).__init__(**kwargs)\n",
    "        \n",
    "    def forward(self,x):\n",
    "        return x - x.mean()"
   ]
  },
  {
   "cell_type": "code",
   "execution_count": 3,
   "id": "ec786574",
   "metadata": {},
   "outputs": [
    {
     "data": {
      "text/plain": [
       "tensor([-2., -1.,  0.,  1.,  2.])"
      ]
     },
     "execution_count": 3,
     "metadata": {},
     "output_type": "execute_result"
    }
   ],
   "source": [
    "layer = CLayer()\n",
    "layer(torch.tensor([1,2,3,4,5],dtype=torch.float)) # 实例化这个层，然后做前向计算"
   ]
  },
  {
   "cell_type": "code",
   "execution_count": 5,
   "id": "b64acd6f",
   "metadata": {},
   "outputs": [
    {
     "data": {
      "text/plain": [
       "tensor([[ 0.0300,  0.5723, -0.7477, -1.0604],\n",
       "        [ 1.0017, -0.1270,  0.3220,  0.0091]], grad_fn=<SubBackward0>)"
      ]
     },
     "execution_count": 5,
     "metadata": {},
     "output_type": "execute_result"
    }
   ],
   "source": [
    "# 也可以用它来构造更复杂的模型\n",
    "net = torch.nn.Sequential(torch.nn.Linear(8,4),CLayer())\n",
    "y = net(torch.randn(2,8))\n",
    "y"
   ]
  },
  {
   "cell_type": "markdown",
   "id": "a4e0f21a",
   "metadata": {},
   "source": [
    "### 含模型参数的自定义层\n",
    "    自定义含模型参数的自定义层。其中的模型参数可以通过训练学出\n",
    "    \n",
    "    如果一个 Tensor 是 Parameter，那么它会自动被添加到模型的参数列表里。所以在自定义含模型参数的层时，应该将参数定义成 Parameter\n",
    "    \n",
    "    除了直接定义成 Parameter 类外，还可以使用 ParameterList 和 ParameterDict 分别定义参数的列表和字典"
   ]
  },
  {
   "cell_type": "code",
   "execution_count": 14,
   "id": "92769662",
   "metadata": {},
   "outputs": [],
   "source": [
    "class MyListDense(torch.nn.Module):\n",
    "    def __init__(self):\n",
    "        super(MyListDense,self).__init__()\n",
    "        self.params = torch.nn.ParameterList([torch.nn.Parameter(torch.randn(4,4)) for i in range(3)])\n",
    "        self.params.append(torch.nn.Parameter(torch.randn(4,1)))\n",
    "        \n",
    "    def forward(self,x):\n",
    "        for i in range(len(self.params)):\n",
    "            x = torch.mm(x,self.params[i])\n",
    "            \n",
    "        return x"
   ]
  },
  {
   "cell_type": "code",
   "execution_count": 15,
   "id": "546a0565",
   "metadata": {},
   "outputs": [
    {
     "data": {
      "text/plain": [
       "MyListDense(\n",
       "  (params): ParameterList(\n",
       "      (0): Parameter containing: [torch.FloatTensor of size 4x4]\n",
       "      (1): Parameter containing: [torch.FloatTensor of size 4x4]\n",
       "      (2): Parameter containing: [torch.FloatTensor of size 4x4]\n",
       "      (3): Parameter containing: [torch.FloatTensor of size 4x1]\n",
       "  )\n",
       ")"
      ]
     },
     "execution_count": 15,
     "metadata": {},
     "output_type": "execute_result"
    }
   ],
   "source": [
    "net = MyListDense()\n",
    "net"
   ]
  },
  {
   "cell_type": "code",
   "execution_count": 16,
   "id": "fe034685",
   "metadata": {},
   "outputs": [],
   "source": [
    "# 而 ParameterDict 接收一个 Parameter 实例的字典作为输入然后得到一个参数字典,然后可以按照字典的规则使用了\n",
    "class MyDictDense(torch.nn.Module):\n",
    "    def __init__(self):\n",
    "        super(MyDictDense,self).__init__()\n",
    "        self.params = torch.nn.ParameterDict({\n",
    "            'linear1':torch.nn.Parameter(torch.randn(4,4)),\n",
    "            'linear2':torch.nn.Parameter(torch.randn(4,1))\n",
    "        })\n",
    "        \n",
    "        self.params.update({'linear3':torch.nn.Parameter(torch.randn(4,2))})\n",
    "    def forward(self,x,i='linear1'):\n",
    "        out = torch.mm(x,self.params[i])\n",
    "        return out"
   ]
  },
  {
   "cell_type": "code",
   "execution_count": 17,
   "id": "eaf537c1",
   "metadata": {},
   "outputs": [
    {
     "data": {
      "text/plain": [
       "MyDictDense(\n",
       "  (params): ParameterDict(\n",
       "      (linear1): Parameter containing: [torch.FloatTensor of size 4x4]\n",
       "      (linear2): Parameter containing: [torch.FloatTensor of size 4x1]\n",
       "      (linear3): Parameter containing: [torch.FloatTensor of size 4x2]\n",
       "  )\n",
       ")"
      ]
     },
     "execution_count": 17,
     "metadata": {},
     "output_type": "execute_result"
    }
   ],
   "source": [
    "net = MyDictDense()\n",
    "net"
   ]
  },
  {
   "cell_type": "code",
   "execution_count": 19,
   "id": "bb582b3d",
   "metadata": {},
   "outputs": [
    {
     "data": {
      "text/plain": [
       "Sequential(\n",
       "  (0): MyDictDense(\n",
       "    (params): ParameterDict(\n",
       "        (linear1): Parameter containing: [torch.FloatTensor of size 4x4]\n",
       "        (linear2): Parameter containing: [torch.FloatTensor of size 4x1]\n",
       "        (linear3): Parameter containing: [torch.FloatTensor of size 4x2]\n",
       "    )\n",
       "  )\n",
       "  (1): MyListDense(\n",
       "    (params): ParameterList(\n",
       "        (0): Parameter containing: [torch.FloatTensor of size 4x4]\n",
       "        (1): Parameter containing: [torch.FloatTensor of size 4x4]\n",
       "        (2): Parameter containing: [torch.FloatTensor of size 4x4]\n",
       "        (3): Parameter containing: [torch.FloatTensor of size 4x1]\n",
       "    )\n",
       "  )\n",
       ")"
      ]
     },
     "execution_count": 19,
     "metadata": {},
     "output_type": "execute_result"
    }
   ],
   "source": [
    "# 使用自定义层构造模型\n",
    "net = torch.nn.Sequential(\n",
    "    MyDictDense(),\n",
    "    MyListDense()\n",
    ")\n",
    "net"
   ]
  },
  {
   "cell_type": "code",
   "execution_count": null,
   "id": "b31effcb",
   "metadata": {},
   "outputs": [],
   "source": []
  }
 ],
 "metadata": {
  "kernelspec": {
   "display_name": "Python 3 (ipykernel)",
   "language": "python",
   "name": "python3"
  },
  "language_info": {
   "codemirror_mode": {
    "name": "ipython",
    "version": 3
   },
   "file_extension": ".py",
   "mimetype": "text/x-python",
   "name": "python",
   "nbconvert_exporter": "python",
   "pygments_lexer": "ipython3",
   "version": "3.9.7"
  }
 },
 "nbformat": 4,
 "nbformat_minor": 5
}
